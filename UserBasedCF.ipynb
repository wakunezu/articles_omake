{
 "cells": [
  {
   "cell_type": "code",
   "execution_count": 2,
   "id": "8e7ccb9d",
   "metadata": {},
   "outputs": [],
   "source": [
    "import pandas as pd\n",
    "import numpy as np\n",
    "cols = ['uid', 'iid', 'rating', 'timestamp']"
   ]
  },
  {
   "cell_type": "code",
   "execution_count": 3,
   "id": "3fb4e65f",
   "metadata": {},
   "outputs": [],
   "source": [
    "# 全体データフレーム 評価行列Rは全体のidから作成する必要がある\n",
    "df = pd.read_csv('./ml-100k/u.data', sep='\\t', header=None, names=cols)"
   ]
  },
  {
   "cell_type": "code",
   "execution_count": 4,
   "id": "449b3f94",
   "metadata": {},
   "outputs": [],
   "source": [
    "# 学習用\n",
    "df_train = pd.read_csv('./ml-100k/ua.base', sep='\\t', header=None, names=cols)"
   ]
  },
  {
   "cell_type": "code",
   "execution_count": 5,
   "id": "c9de18d9",
   "metadata": {},
   "outputs": [],
   "source": [
    "# テスト用\n",
    "df_test = pd.read_csv('./ml-100k/ua.test',  sep='\\t',header=None, names=cols)"
   ]
  },
  {
   "cell_type": "code",
   "execution_count": 6,
   "id": "4f0e1983",
   "metadata": {},
   "outputs": [
    {
     "data": {
      "text/html": [
       "<div>\n",
       "<style scoped>\n",
       "    .dataframe tbody tr th:only-of-type {\n",
       "        vertical-align: middle;\n",
       "    }\n",
       "\n",
       "    .dataframe tbody tr th {\n",
       "        vertical-align: top;\n",
       "    }\n",
       "\n",
       "    .dataframe thead th {\n",
       "        text-align: right;\n",
       "    }\n",
       "</style>\n",
       "<table border=\"1\" class=\"dataframe\">\n",
       "  <thead>\n",
       "    <tr style=\"text-align: right;\">\n",
       "      <th></th>\n",
       "      <th>uid</th>\n",
       "      <th>iid</th>\n",
       "      <th>rating</th>\n",
       "      <th>timestamp</th>\n",
       "    </tr>\n",
       "  </thead>\n",
       "  <tbody>\n",
       "    <tr>\n",
       "      <th>0</th>\n",
       "      <td>196</td>\n",
       "      <td>242</td>\n",
       "      <td>3</td>\n",
       "      <td>881250949</td>\n",
       "    </tr>\n",
       "    <tr>\n",
       "      <th>1</th>\n",
       "      <td>186</td>\n",
       "      <td>302</td>\n",
       "      <td>3</td>\n",
       "      <td>891717742</td>\n",
       "    </tr>\n",
       "    <tr>\n",
       "      <th>2</th>\n",
       "      <td>22</td>\n",
       "      <td>377</td>\n",
       "      <td>1</td>\n",
       "      <td>878887116</td>\n",
       "    </tr>\n",
       "    <tr>\n",
       "      <th>3</th>\n",
       "      <td>244</td>\n",
       "      <td>51</td>\n",
       "      <td>2</td>\n",
       "      <td>880606923</td>\n",
       "    </tr>\n",
       "    <tr>\n",
       "      <th>4</th>\n",
       "      <td>166</td>\n",
       "      <td>346</td>\n",
       "      <td>1</td>\n",
       "      <td>886397596</td>\n",
       "    </tr>\n",
       "  </tbody>\n",
       "</table>\n",
       "</div>"
      ],
      "text/plain": [
       "   uid  iid  rating  timestamp\n",
       "0  196  242       3  881250949\n",
       "1  186  302       3  891717742\n",
       "2   22  377       1  878887116\n",
       "3  244   51       2  880606923\n",
       "4  166  346       1  886397596"
      ]
     },
     "execution_count": 6,
     "metadata": {},
     "output_type": "execute_result"
    }
   ],
   "source": [
    "df.head()"
   ]
  },
  {
   "cell_type": "code",
   "execution_count": 7,
   "id": "8de73875",
   "metadata": {},
   "outputs": [
    {
     "data": {
      "text/html": [
       "<div>\n",
       "<style scoped>\n",
       "    .dataframe tbody tr th:only-of-type {\n",
       "        vertical-align: middle;\n",
       "    }\n",
       "\n",
       "    .dataframe tbody tr th {\n",
       "        vertical-align: top;\n",
       "    }\n",
       "\n",
       "    .dataframe thead th {\n",
       "        text-align: right;\n",
       "    }\n",
       "</style>\n",
       "<table border=\"1\" class=\"dataframe\">\n",
       "  <thead>\n",
       "    <tr style=\"text-align: right;\">\n",
       "      <th></th>\n",
       "      <th>uid</th>\n",
       "      <th>iid</th>\n",
       "      <th>rating</th>\n",
       "      <th>timestamp</th>\n",
       "    </tr>\n",
       "  </thead>\n",
       "  <tbody>\n",
       "    <tr>\n",
       "      <th>0</th>\n",
       "      <td>1</td>\n",
       "      <td>1</td>\n",
       "      <td>5</td>\n",
       "      <td>874965758</td>\n",
       "    </tr>\n",
       "    <tr>\n",
       "      <th>1</th>\n",
       "      <td>1</td>\n",
       "      <td>2</td>\n",
       "      <td>3</td>\n",
       "      <td>876893171</td>\n",
       "    </tr>\n",
       "    <tr>\n",
       "      <th>2</th>\n",
       "      <td>1</td>\n",
       "      <td>3</td>\n",
       "      <td>4</td>\n",
       "      <td>878542960</td>\n",
       "    </tr>\n",
       "    <tr>\n",
       "      <th>3</th>\n",
       "      <td>1</td>\n",
       "      <td>4</td>\n",
       "      <td>3</td>\n",
       "      <td>876893119</td>\n",
       "    </tr>\n",
       "    <tr>\n",
       "      <th>4</th>\n",
       "      <td>1</td>\n",
       "      <td>5</td>\n",
       "      <td>3</td>\n",
       "      <td>889751712</td>\n",
       "    </tr>\n",
       "  </tbody>\n",
       "</table>\n",
       "</div>"
      ],
      "text/plain": [
       "   uid  iid  rating  timestamp\n",
       "0    1    1       5  874965758\n",
       "1    1    2       3  876893171\n",
       "2    1    3       4  878542960\n",
       "3    1    4       3  876893119\n",
       "4    1    5       3  889751712"
      ]
     },
     "execution_count": 7,
     "metadata": {},
     "output_type": "execute_result"
    }
   ],
   "source": [
    "df_train.head()"
   ]
  },
  {
   "cell_type": "code",
   "execution_count": 8,
   "id": "b917c84e",
   "metadata": {},
   "outputs": [
    {
     "data": {
      "text/html": [
       "<div>\n",
       "<style scoped>\n",
       "    .dataframe tbody tr th:only-of-type {\n",
       "        vertical-align: middle;\n",
       "    }\n",
       "\n",
       "    .dataframe tbody tr th {\n",
       "        vertical-align: top;\n",
       "    }\n",
       "\n",
       "    .dataframe thead th {\n",
       "        text-align: right;\n",
       "    }\n",
       "</style>\n",
       "<table border=\"1\" class=\"dataframe\">\n",
       "  <thead>\n",
       "    <tr style=\"text-align: right;\">\n",
       "      <th></th>\n",
       "      <th>uid</th>\n",
       "      <th>iid</th>\n",
       "      <th>rating</th>\n",
       "      <th>timestamp</th>\n",
       "    </tr>\n",
       "  </thead>\n",
       "  <tbody>\n",
       "    <tr>\n",
       "      <th>0</th>\n",
       "      <td>1</td>\n",
       "      <td>20</td>\n",
       "      <td>4</td>\n",
       "      <td>887431883</td>\n",
       "    </tr>\n",
       "    <tr>\n",
       "      <th>1</th>\n",
       "      <td>1</td>\n",
       "      <td>33</td>\n",
       "      <td>4</td>\n",
       "      <td>878542699</td>\n",
       "    </tr>\n",
       "    <tr>\n",
       "      <th>2</th>\n",
       "      <td>1</td>\n",
       "      <td>61</td>\n",
       "      <td>4</td>\n",
       "      <td>878542420</td>\n",
       "    </tr>\n",
       "    <tr>\n",
       "      <th>3</th>\n",
       "      <td>1</td>\n",
       "      <td>117</td>\n",
       "      <td>3</td>\n",
       "      <td>874965739</td>\n",
       "    </tr>\n",
       "    <tr>\n",
       "      <th>4</th>\n",
       "      <td>1</td>\n",
       "      <td>155</td>\n",
       "      <td>2</td>\n",
       "      <td>878542201</td>\n",
       "    </tr>\n",
       "  </tbody>\n",
       "</table>\n",
       "</div>"
      ],
      "text/plain": [
       "   uid  iid  rating  timestamp\n",
       "0    1   20       4  887431883\n",
       "1    1   33       4  878542699\n",
       "2    1   61       4  878542420\n",
       "3    1  117       3  874965739\n",
       "4    1  155       2  878542201"
      ]
     },
     "execution_count": 8,
     "metadata": {},
     "output_type": "execute_result"
    }
   ],
   "source": [
    "df_test.head()"
   ]
  },
  {
   "cell_type": "code",
   "execution_count": 9,
   "id": "e747166e",
   "metadata": {},
   "outputs": [],
   "source": [
    "# idが1からなのは都合が悪いので修正\n",
    "df.uid = df.uid - 1\n",
    "df.iid = df.iid - 1\n",
    "df_train.uid = df_train.uid - 1\n",
    "df_train.iid  = df_train.iid - 1\n",
    "df_test.uid = df_test.uid - 1\n",
    "df_test.iid  = df_test.iid - 1\n",
    "# testのうち評価が高いものだけ残す。 テストで評価が低いものしか見ていないユーザには推薦しない\n",
    "df_test = df_test[df_test.rating >= 4]"
   ]
  },
  {
   "cell_type": "code",
   "execution_count": 10,
   "id": "0828302f",
   "metadata": {},
   "outputs": [
    {
     "name": "stdout",
     "output_type": "stream",
     "text": [
      "(943, 1682)\n",
      "[[5. 3. 4. ... 0. 0. 0.]\n",
      " [4. 0. 0. ... 0. 0. 0.]\n",
      " [0. 0. 0. ... 0. 0. 0.]\n",
      " ...\n",
      " [5. 0. 0. ... 0. 0. 0.]\n",
      " [0. 0. 0. ... 0. 0. 0.]\n",
      " [0. 5. 0. ... 0. 0. 0.]]\n"
     ]
    }
   ],
   "source": [
    "# u x i の行列を作成\n",
    "user_list = df.uid.unique()  # 全体から作っているのがポイント\n",
    "item_list = df.iid.unique()\n",
    "R = np.zeros([len(user_list), len(item_list)])  # 初期化\n",
    "print(R.shape)\n",
    "R[df_train.uid, df_train.iid] = df_train.rating\n",
    "print(R)"
   ]
  },
  {
   "cell_type": "code",
   "execution_count": 11,
   "id": "3d83a533",
   "metadata": {},
   "outputs": [],
   "source": [
    "# 遅いけど、df_trainを一行ずつ見ていくことも可能\n",
    "#for idx in range(len(df_train)):\n",
    "#    row = df_train.iloc[idx]\n",
    "#    uid, iid, rating = row.uid, row.iid, row.rating\n",
    "#    R[uid, iid] = rating"
   ]
  },
  {
   "cell_type": "code",
   "execution_count": 12,
   "id": "339d6479",
   "metadata": {},
   "outputs": [],
   "source": [
    "# Rからコサイン類似度行列(各行が他の行にどれだけ似てるか=ユーザ同士の類似度）を作成\n",
    "# See: https://stackoverflow.com/questions/41905029/create-cosine-similarity-matrix-numpy\n",
    "d = R @ R.T  # u x uの行列\n",
    "norm = (R * R).sum(axis=1, keepdims=True) ** .5\n",
    "cos_sim_matrix = d / norm / norm.T  # global変数として使う"
   ]
  },
  {
   "cell_type": "code",
   "execution_count": 13,
   "id": "dcf8b10a",
   "metadata": {},
   "outputs": [
    {
     "data": {
      "text/plain": [
       "array([[1.        , 0.14675076, 0.0506765 , ..., 0.03870478, 0.1727177 ,\n",
       "        0.38039608],\n",
       "       [0.14675076, 1.        , 0.12580785, ..., 0.17370692, 0.17318465,\n",
       "        0.08094333],\n",
       "       [0.0506765 , 0.12580785, 1.        , ..., 0.02798846, 0.12481628,\n",
       "        0.02969262],\n",
       "       ...,\n",
       "       [0.03870478, 0.17370692, 0.02798846, ..., 1.        , 0.03995129,\n",
       "        0.01914385],\n",
       "       [0.1727177 , 0.17318465, 0.12481628, ..., 0.03995129, 1.        ,\n",
       "        0.14471056],\n",
       "       [0.38039608, 0.08094333, 0.02969262, ..., 0.01914385, 0.14471056,\n",
       "        1.        ]])"
      ]
     },
     "execution_count": 13,
     "metadata": {},
     "output_type": "execute_result"
    }
   ],
   "source": [
    "cos_sim_matrix"
   ]
  },
  {
   "cell_type": "code",
   "execution_count": 14,
   "id": "f18bee8c",
   "metadata": {},
   "outputs": [
    {
     "data": {
      "text/plain": [
       "[915, 863, 267, 434, 456, 91, 428, 302, 275, 681]"
      ]
     },
     "execution_count": 14,
     "metadata": {},
     "output_type": "execute_result"
    }
   ],
   "source": [
    "def get_similar_user(uid, n_sim_u=10):\n",
    "    sim = cos_sim_matrix[uid]\n",
    "    sim_users_idx = list(sim.argsort()[::-1][:n_sim_u+1])  # 似ているユーザ（自分含むn_sim_u+1個）\n",
    "    # 自分が含まれていれば除去\n",
    "    if uid in sim_users_idx:\n",
    "        sim_users_idx.remove(uid)  \n",
    "    else:\n",
    "        sim_users_idx = sim_users_idx[:n_sim_u]\n",
    "    # 自分と似ているユーザとその類似度を保存\n",
    "    return sim_users_idx\n",
    "\n",
    "get_similar_user(0)"
   ]
  },
  {
   "cell_type": "code",
   "execution_count": 16,
   "id": "9ef870b1",
   "metadata": {},
   "outputs": [
    {
     "data": {
      "text/plain": [
       "array([317, 654, 432, 422, 402, 201, 116, 356, 473, 287])"
      ]
     },
     "execution_count": 16,
     "metadata": {},
     "output_type": "execute_result"
    }
   ],
   "source": [
    "def get_recommendation_list(uid, n_sim_u=10, n_rec=10):\n",
    "    # 全てのアイテムの中から、uidに良さげなものを探し、良いものを上からn_rec個推薦\n",
    "    score = []  # 全てのアイテムの推薦評価値を入れていく\n",
    "    sim_users = get_similar_user(uid, n_sim_u=n_sim_u)\n",
    "    for item, rating in enumerate(R[uid]):\n",
    "        if rating != 0:  # 評価済みのものは無視して0を入れる\n",
    "            score.append(0)\n",
    "            continue\n",
    "        # ★似ている人の評価の平均をスコアということにするが色々やりようはある\n",
    "        others_rating_ave = R[sim_users][:, item].mean() \n",
    "        score.append(others_rating_ave)\n",
    "    score = np.array(score)\n",
    "    rec_list = score.argsort()[::-1][:n_rec]\n",
    "    return rec_list\n",
    "\n",
    "get_recommendation_list(0)"
   ]
  },
  {
   "cell_type": "code",
   "execution_count": 17,
   "id": "d19dc321",
   "metadata": {},
   "outputs": [],
   "source": [
    "# テストデータを用いて推薦のHR@K （K個推薦した際のヒットレート）を評価する \n",
    "# ちょっと時間かかる\n",
    "result = {}\n",
    "for k in range(50):\n",
    "    hit_or_not = []\n",
    "    for uid in user_list:\n",
    "        watched_in_test = list(df_test[df_test.uid==uid].iid)\n",
    "        if len(watched_in_test) == 0:  # テストになければ無視\n",
    "            continue\n",
    "        hit_flag = 0\n",
    "        rec_list = get_recommendation_list(uid, n_rec=k)\n",
    "        for r in rec_list:\n",
    "            if r in watched_in_test:\n",
    "                hit_flag = 1\n",
    "                break\n",
    "        hit_or_not.append(hit_flag)\n",
    "    result[k] = sum(hit_or_not) / len(hit_or_not)  # （ほぼ）全ユーザに推薦した際のHR@K"
   ]
  },
  {
   "cell_type": "code",
   "execution_count": 18,
   "id": "4c2e60cd",
   "metadata": {},
   "outputs": [
    {
     "data": {
      "text/plain": [
       "{0: 0.0,\n",
       " 1: 0.2890792291220557,\n",
       " 2: 0.42398286937901497,\n",
       " 3: 0.512847965738758,\n",
       " 4: 0.5738758029978587,\n",
       " 5: 0.6220556745182013,\n",
       " 6: 0.6616702355460385,\n",
       " 7: 0.6991434689507494,\n",
       " 8: 0.7334047109207709,\n",
       " 9: 0.7601713062098501,\n",
       " 10: 0.7805139186295503,\n",
       " 11: 0.7987152034261242,\n",
       " 12: 0.815845824411135,\n",
       " 13: 0.8254817987152034,\n",
       " 14: 0.8319057815845824,\n",
       " 15: 0.8426124197002142,\n",
       " 16: 0.8533190578158458,\n",
       " 17: 0.8629550321199143,\n",
       " 18: 0.8715203426124197,\n",
       " 19: 0.8779443254817987,\n",
       " 20: 0.8822269807280514,\n",
       " 21: 0.8843683083511777,\n",
       " 22: 0.8886509635974305,\n",
       " 23: 0.892933618843683,\n",
       " 24: 0.8972162740899358,\n",
       " 25: 0.9014989293361885,\n",
       " 26: 0.9036402569593148,\n",
       " 27: 0.9089935760171306,\n",
       " 28: 0.9132762312633833,\n",
       " 29: 0.917558886509636,\n",
       " 30: 0.917558886509636,\n",
       " 31: 0.9186295503211992,\n",
       " 32: 0.9218415417558886,\n",
       " 33: 0.923982869379015,\n",
       " 34: 0.923982869379015,\n",
       " 35: 0.9271948608137045,\n",
       " 36: 0.930406852248394,\n",
       " 37: 0.9336188436830836,\n",
       " 38: 0.9379014989293362,\n",
       " 39: 0.9389721627408993,\n",
       " 40: 0.9411134903640257,\n",
       " 41: 0.9464668094218416,\n",
       " 42: 0.9475374732334048,\n",
       " 43: 0.949678800856531,\n",
       " 44: 0.9539614561027837,\n",
       " 45: 0.9550321199143469,\n",
       " 46: 0.9571734475374732,\n",
       " 47: 0.9593147751605996,\n",
       " 48: 0.9603854389721628,\n",
       " 49: 0.9635974304068522}"
      ]
     },
     "execution_count": 18,
     "metadata": {},
     "output_type": "execute_result"
    }
   ],
   "source": [
    "result"
   ]
  },
  {
   "cell_type": "code",
   "execution_count": 19,
   "id": "00ecd13b",
   "metadata": {},
   "outputs": [],
   "source": [
    "import matplotlib.pyplot as plt"
   ]
  },
  {
   "cell_type": "code",
   "execution_count": 20,
   "id": "8e3e0bea",
   "metadata": {},
   "outputs": [
    {
     "data": {
      "text/plain": [
       "Text(0.5, 1.0, 'HR@k in movielens dataset')"
      ]
     },
     "execution_count": 20,
     "metadata": {},
     "output_type": "execute_result"
    },
    {
     "data": {
      "image/png": "[encoded data removed]",
      "text/plain": [
       "<Figure size 432x288 with 1 Axes>"
      ]
     },
     "metadata": {
      "needs_background": "light"
     },
     "output_type": "display_data"
    }
   ],
   "source": [
    "plt.plot(result.keys(), result.values(), marker='x')\n",
    "plt.xlabel('k')\n",
    "plt.ylabel('HR@k')\n",
    "plt.title('HR@k in movielens dataset')"
   ]
  },
  {
   "cell_type": "code",
   "execution_count": null,
   "id": "6ff29c31",
   "metadata": {},
   "outputs": [],
   "source": []
  }
 ],
 "metadata": {
  "kernelspec": {
   "display_name": "Python 3",
   "language": "python",
   "name": "python3"
  },
  "language_info": {
   "codemirror_mode": {
    "name": "ipython",
    "version": 3
   },
   "file_extension": ".py",
   "mimetype": "text/x-python",
   "name": "python",
   "nbconvert_exporter": "python",
   "pygments_lexer": "ipython3",
   "version": "3.8.3"
  }
 },
 "nbformat": 4,
 "nbformat_minor": 5
}
